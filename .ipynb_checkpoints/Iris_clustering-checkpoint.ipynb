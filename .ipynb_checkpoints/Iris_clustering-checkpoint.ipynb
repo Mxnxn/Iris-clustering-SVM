{
 "cells": [
  {
   "cell_type": "code",
   "execution_count": 1,
   "id": "d0f2d81a",
   "metadata": {},
   "outputs": [],
   "source": [
    "import pandas as pd\n",
    "import matplotlib.pyplot as plt\n",
    "import seaborn as sns"
   ]
  },
  {
   "cell_type": "code",
   "execution_count": 2,
   "id": "07381977",
   "metadata": {},
   "outputs": [],
   "source": [
    "import warnings\n",
    "\n",
    "warnings.filterwarnings('ignore')"
   ]
  },
  {
   "cell_type": "code",
   "execution_count": 3,
   "id": "a1834fbd",
   "metadata": {},
   "outputs": [],
   "source": [
    "df = pd.read_csv('./Iris.csv')"
   ]
  },
  {
   "cell_type": "code",
   "execution_count": 4,
   "id": "830adecc",
   "metadata": {},
   "outputs": [
    {
     "data": {
      "text/html": [
       "<div>\n",
       "<style scoped>\n",
       "    .dataframe tbody tr th:only-of-type {\n",
       "        vertical-align: middle;\n",
       "    }\n",
       "\n",
       "    .dataframe tbody tr th {\n",
       "        vertical-align: top;\n",
       "    }\n",
       "\n",
       "    .dataframe thead th {\n",
       "        text-align: right;\n",
       "    }\n",
       "</style>\n",
       "<table border=\"1\" class=\"dataframe\">\n",
       "  <thead>\n",
       "    <tr style=\"text-align: right;\">\n",
       "      <th></th>\n",
       "      <th>Id</th>\n",
       "      <th>SepalLengthCm</th>\n",
       "      <th>SepalWidthCm</th>\n",
       "      <th>PetalLengthCm</th>\n",
       "      <th>PetalWidthCm</th>\n",
       "      <th>Species</th>\n",
       "    </tr>\n",
       "  </thead>\n",
       "  <tbody>\n",
       "    <tr>\n",
       "      <th>0</th>\n",
       "      <td>1</td>\n",
       "      <td>5.1</td>\n",
       "      <td>3.5</td>\n",
       "      <td>1.4</td>\n",
       "      <td>0.2</td>\n",
       "      <td>Iris-setosa</td>\n",
       "    </tr>\n",
       "    <tr>\n",
       "      <th>1</th>\n",
       "      <td>2</td>\n",
       "      <td>4.9</td>\n",
       "      <td>3.0</td>\n",
       "      <td>1.4</td>\n",
       "      <td>0.2</td>\n",
       "      <td>Iris-setosa</td>\n",
       "    </tr>\n",
       "    <tr>\n",
       "      <th>2</th>\n",
       "      <td>3</td>\n",
       "      <td>4.7</td>\n",
       "      <td>3.2</td>\n",
       "      <td>1.3</td>\n",
       "      <td>0.2</td>\n",
       "      <td>Iris-setosa</td>\n",
       "    </tr>\n",
       "    <tr>\n",
       "      <th>3</th>\n",
       "      <td>4</td>\n",
       "      <td>4.6</td>\n",
       "      <td>3.1</td>\n",
       "      <td>1.5</td>\n",
       "      <td>0.2</td>\n",
       "      <td>Iris-setosa</td>\n",
       "    </tr>\n",
       "    <tr>\n",
       "      <th>4</th>\n",
       "      <td>5</td>\n",
       "      <td>5.0</td>\n",
       "      <td>3.6</td>\n",
       "      <td>1.4</td>\n",
       "      <td>0.2</td>\n",
       "      <td>Iris-setosa</td>\n",
       "    </tr>\n",
       "  </tbody>\n",
       "</table>\n",
       "</div>"
      ],
      "text/plain": [
       "   Id  SepalLengthCm  SepalWidthCm  PetalLengthCm  PetalWidthCm      Species\n",
       "0   1            5.1           3.5            1.4           0.2  Iris-setosa\n",
       "1   2            4.9           3.0            1.4           0.2  Iris-setosa\n",
       "2   3            4.7           3.2            1.3           0.2  Iris-setosa\n",
       "3   4            4.6           3.1            1.5           0.2  Iris-setosa\n",
       "4   5            5.0           3.6            1.4           0.2  Iris-setosa"
      ]
     },
     "execution_count": 4,
     "metadata": {},
     "output_type": "execute_result"
    }
   ],
   "source": [
    "df.head()"
   ]
  },
  {
   "cell_type": "code",
   "execution_count": 5,
   "id": "36de0e53",
   "metadata": {},
   "outputs": [
    {
     "data": {
      "text/html": [
       "<div>\n",
       "<style scoped>\n",
       "    .dataframe tbody tr th:only-of-type {\n",
       "        vertical-align: middle;\n",
       "    }\n",
       "\n",
       "    .dataframe tbody tr th {\n",
       "        vertical-align: top;\n",
       "    }\n",
       "\n",
       "    .dataframe thead th {\n",
       "        text-align: right;\n",
       "    }\n",
       "</style>\n",
       "<table border=\"1\" class=\"dataframe\">\n",
       "  <thead>\n",
       "    <tr style=\"text-align: right;\">\n",
       "      <th></th>\n",
       "      <th>count</th>\n",
       "      <th>mean</th>\n",
       "      <th>std</th>\n",
       "      <th>min</th>\n",
       "      <th>25%</th>\n",
       "      <th>50%</th>\n",
       "      <th>75%</th>\n",
       "      <th>max</th>\n",
       "    </tr>\n",
       "  </thead>\n",
       "  <tbody>\n",
       "    <tr>\n",
       "      <th>Id</th>\n",
       "      <td>150.0</td>\n",
       "      <td>75.500000</td>\n",
       "      <td>43.445368</td>\n",
       "      <td>1.0</td>\n",
       "      <td>38.25</td>\n",
       "      <td>75.50</td>\n",
       "      <td>112.75</td>\n",
       "      <td>150.0</td>\n",
       "    </tr>\n",
       "    <tr>\n",
       "      <th>SepalLengthCm</th>\n",
       "      <td>150.0</td>\n",
       "      <td>5.843333</td>\n",
       "      <td>0.828066</td>\n",
       "      <td>4.3</td>\n",
       "      <td>5.10</td>\n",
       "      <td>5.80</td>\n",
       "      <td>6.40</td>\n",
       "      <td>7.9</td>\n",
       "    </tr>\n",
       "    <tr>\n",
       "      <th>SepalWidthCm</th>\n",
       "      <td>150.0</td>\n",
       "      <td>3.054000</td>\n",
       "      <td>0.433594</td>\n",
       "      <td>2.0</td>\n",
       "      <td>2.80</td>\n",
       "      <td>3.00</td>\n",
       "      <td>3.30</td>\n",
       "      <td>4.4</td>\n",
       "    </tr>\n",
       "    <tr>\n",
       "      <th>PetalLengthCm</th>\n",
       "      <td>150.0</td>\n",
       "      <td>3.758667</td>\n",
       "      <td>1.764420</td>\n",
       "      <td>1.0</td>\n",
       "      <td>1.60</td>\n",
       "      <td>4.35</td>\n",
       "      <td>5.10</td>\n",
       "      <td>6.9</td>\n",
       "    </tr>\n",
       "    <tr>\n",
       "      <th>PetalWidthCm</th>\n",
       "      <td>150.0</td>\n",
       "      <td>1.198667</td>\n",
       "      <td>0.763161</td>\n",
       "      <td>0.1</td>\n",
       "      <td>0.30</td>\n",
       "      <td>1.30</td>\n",
       "      <td>1.80</td>\n",
       "      <td>2.5</td>\n",
       "    </tr>\n",
       "  </tbody>\n",
       "</table>\n",
       "</div>"
      ],
      "text/plain": [
       "               count       mean        std  min    25%    50%     75%    max\n",
       "Id             150.0  75.500000  43.445368  1.0  38.25  75.50  112.75  150.0\n",
       "SepalLengthCm  150.0   5.843333   0.828066  4.3   5.10   5.80    6.40    7.9\n",
       "SepalWidthCm   150.0   3.054000   0.433594  2.0   2.80   3.00    3.30    4.4\n",
       "PetalLengthCm  150.0   3.758667   1.764420  1.0   1.60   4.35    5.10    6.9\n",
       "PetalWidthCm   150.0   1.198667   0.763161  0.1   0.30   1.30    1.80    2.5"
      ]
     },
     "execution_count": 5,
     "metadata": {},
     "output_type": "execute_result"
    }
   ],
   "source": [
    "df.describe().T"
   ]
  },
  {
   "cell_type": "code",
   "execution_count": 6,
   "id": "ac560c15",
   "metadata": {},
   "outputs": [
    {
     "data": {
      "text/plain": [
       "array(['Iris-setosa', 'Iris-versicolor', 'Iris-virginica'], dtype=object)"
      ]
     },
     "execution_count": 6,
     "metadata": {},
     "output_type": "execute_result"
    }
   ],
   "source": [
    "# 3 unique types of flower\n",
    "df['Species'].unique()"
   ]
  },
  {
   "cell_type": "code",
   "execution_count": 7,
   "id": "335b47ea",
   "metadata": {},
   "outputs": [],
   "source": [
    "df = df.drop(['Id'],axis=1)"
   ]
  },
  {
   "cell_type": "code",
   "execution_count": null,
   "id": "16ffd606",
   "metadata": {},
   "outputs": [],
   "source": [
    "bardf = df.groupby(['Species']).size().reset_index(name='count')\n",
    "sns.barplot(data=bardf,x='Species',y='count')\n",
    "plt.title(\"Number of Samples by Species\")\n",
    "plt.show()"
   ]
  },
  {
   "cell_type": "code",
   "execution_count": null,
   "id": "761bd657",
   "metadata": {},
   "outputs": [],
   "source": [
    "plt.figure(figsize=(10,10))\n",
    "\n",
    "plt.subplot(2,2,1)\n",
    "sns.boxplot(x= df['Species'],y=df['SepalLengthCm'])\n",
    "plt.subplot(2,2,2)\n",
    "sns.boxplot(x= df['Species'],y=df['SepalWidthCm'])\n",
    "plt.subplot(2,2,3)\n",
    "sns.boxplot(x= df['Species'],y=df['PetalLengthCm'])\n",
    "plt.subplot(2,2,4)\n",
    "sns.boxplot(x= df['Species'],y=df['SepalWidthCm'])\n",
    "plt.show()"
   ]
  },
  {
   "cell_type": "code",
   "execution_count": null,
   "id": "d05d23e0",
   "metadata": {},
   "outputs": [],
   "source": [
    "sns.pairplot(df,hue='Species')"
   ]
  },
  {
   "cell_type": "code",
   "execution_count": null,
   "id": "e070c1b4",
   "metadata": {
    "scrolled": true
   },
   "outputs": [],
   "source": [
    "df.groupby(['Species']).count()"
   ]
  },
  {
   "cell_type": "code",
   "execution_count": null,
   "id": "808f6002",
   "metadata": {},
   "outputs": [],
   "source": [
    "plt.figure(figsize=(4,3))\n",
    "plt.title('Correlation Heatmap of Iris-Flowers')\n",
    "ax = sns.heatmap(df.corr(), annot=True, square=True,  fmt='.2f',cmap='BuPu' )\n",
    "ax.set_xticklabels(ax.get_xticklabels(), rotation=30)\n",
    "ax.set_yticklabels(ax.get_yticklabels(), rotation=0)           \n",
    "sns.axes_style(\"white\")\n",
    "plt.show()"
   ]
  },
  {
   "cell_type": "markdown",
   "id": "e7499b30",
   "metadata": {},
   "source": [
    "# Classifier using 2 features\n",
    "- PetalLengthCm\n",
    "- PetalWidthCm"
   ]
  },
  {
   "cell_type": "code",
   "execution_count": 24,
   "id": "f84e1994",
   "metadata": {},
   "outputs": [],
   "source": [
    "from sklearn.preprocessing import LabelEncoder\n",
    "from mlxtend.plotting import plot_decision_regions\n",
    "from sklearn.model_selection import train_test_split\n",
    "from sklearn.metrics import classification_report,confusion_matrix\n",
    "from sklearn.decomposition import PCA\n",
    "from sklearn.svm import SVC\n",
    "import numpy as np\n",
    "Labeler = LabelEncoder()\n",
    "svm = SVC()"
   ]
  },
  {
   "cell_type": "code",
   "execution_count": 27,
   "id": "f5b427ae",
   "metadata": {},
   "outputs": [],
   "source": [
    "def classifier2f(params,target):\n",
    "    X = df[params]\n",
    "    y = df[target]\n",
    "    print('*'*55)\n",
    "    print('Input Features:',params)\n",
    "    print('Target Features:',target)\n",
    "    y['Species'] = Labeler.fit_transform(df['Species'])\n",
    "    X_train, X_test, y_train, y_test = train_test_split(X, y, test_size=.3, random_state=93)\n",
    "    svm = SVC()\n",
    "    svm.fit(X_train, y_train)\n",
    "    print('Training Accuracy:',svm.score(X_train, y_train))\n",
    "    print('Training Accuracy:',svm.score(X_test, y_test))\n",
    "    y_pred = svm.predict(X_test)\n",
    "    print(classification_report(y_test,y_pred))\n",
    "    fig, ax = plt.subplots()\n",
    "    plot_decision_regions(np.array(X_test), np.array(y_test[target[0]]), clf=svm, legend=2)\n",
    "    plt.show()"
   ]
  },
  {
   "cell_type": "code",
   "execution_count": 28,
   "id": "e3cd2687",
   "metadata": {
    "scrolled": false
   },
   "outputs": [
    {
     "name": "stdout",
     "output_type": "stream",
     "text": [
      "*******************************************************\n",
      "Input Features: ['PetalLengthCm', 'PetalWidthCm']\n",
      "Target Features: ['Species']\n",
      "Training Accuracy: 0.9809523809523809\n",
      "Training Accuracy: 0.9333333333333333\n",
      "              precision    recall  f1-score   support\n",
      "\n",
      "           0       1.00      1.00      1.00        14\n",
      "           1       0.93      0.88      0.90        16\n",
      "           2       0.88      0.93      0.90        15\n",
      "\n",
      "    accuracy                           0.93        45\n",
      "   macro avg       0.94      0.94      0.94        45\n",
      "weighted avg       0.93      0.93      0.93        45\n",
      "\n"
     ]
    },
    {
     "data": {
      "image/png": "[encoded data removed]",
      "text/plain": [
       "<Figure size 640x480 with 1 Axes>"
      ]
     },
     "metadata": {},
     "output_type": "display_data"
    },
    {
     "name": "stdout",
     "output_type": "stream",
     "text": [
      "*******************************************************\n",
      "Input Features: ['PetalLengthCm', 'SepalLengthCm']\n",
      "Target Features: ['Species']\n",
      "Training Accuracy: 0.9809523809523809\n",
      "Training Accuracy: 0.9555555555555556\n",
      "              precision    recall  f1-score   support\n",
      "\n",
      "           0       1.00      1.00      1.00        14\n",
      "           1       1.00      0.88      0.93        16\n",
      "           2       0.88      1.00      0.94        15\n",
      "\n",
      "    accuracy                           0.96        45\n",
      "   macro avg       0.96      0.96      0.96        45\n",
      "weighted avg       0.96      0.96      0.96        45\n",
      "\n"
     ]
    },
    {
     "data": {
      "image/png": "[encoded data removed]",
      "text/plain": [
       "<Figure size 640x480 with 1 Axes>"
      ]
     },
     "metadata": {},
     "output_type": "display_data"
    },
    {
     "name": "stdout",
     "output_type": "stream",
     "text": [
      "*******************************************************\n",
      "Input Features: ['PetalWidthCm', 'SepalLengthCm']\n",
      "Target Features: ['Species']\n",
      "Training Accuracy: 0.9619047619047619\n",
      "Training Accuracy: 0.9555555555555556\n",
      "              precision    recall  f1-score   support\n",
      "\n",
      "           0       1.00      1.00      1.00        14\n",
      "           1       0.89      1.00      0.94        16\n",
      "           2       1.00      0.87      0.93        15\n",
      "\n",
      "    accuracy                           0.96        45\n",
      "   macro avg       0.96      0.96      0.96        45\n",
      "weighted avg       0.96      0.96      0.96        45\n",
      "\n"
     ]
    },
    {
     "data": {
      "image/png": "[encoded data removed]",
      "text/plain": [
       "<Figure size 640x480 with 1 Axes>"
      ]
     },
     "metadata": {},
     "output_type": "display_data"
    }
   ],
   "source": [
    "features = ['PetalLengthCm','PetalWidthCm','SepalLengthCm']\n",
    "for i in range(0,3):\n",
    "    for j in range(i+1,3):\n",
    "        classifier2f([features[i],features[j]],['Species'])"
   ]
  },
  {
   "cell_type": "code",
   "execution_count": null,
   "id": "144e6b1d",
   "metadata": {},
   "outputs": [],
   "source": []
  },
  {
   "cell_type": "code",
   "execution_count": null,
   "id": "494f72f6",
   "metadata": {},
   "outputs": [],
   "source": [
    "print(y['Species'].unique())\n"
   ]
  },
  {
   "cell_type": "code",
   "execution_count": null,
   "id": "4fc68923",
   "metadata": {},
   "outputs": [],
   "source": [
    "y['Species'].unique()"
   ]
  },
  {
   "cell_type": "code",
   "execution_count": null,
   "id": "42f60cef",
   "metadata": {},
   "outputs": [],
   "source": [
    "from sklearn.model_selection import train_test_split\n",
    "\n",
    "X_train, X_test, y_train, y_test = train_test_split(X, y, test_size=.3, random_state=0)"
   ]
  },
  {
   "cell_type": "code",
   "execution_count": null,
   "id": "7a35d7f9",
   "metadata": {},
   "outputs": [],
   "source": [
    "from sklearn.svm import SVC\n",
    "\n",
    "svm = SVC()\n",
    "svm.fit(X_train, y_train)\n",
    "\n",
    "print('The accuracy of the svm classifier on training data is {:.2f} out of 1'.format(svm.score(X_train, y_train)))\n",
    "\n",
    "print('The accuracy of the svm classifier on test data is {:.2f} out of 1'.format(svm.score(X_test, y_test)))\n",
    "\n",
    "y_pred = svm.predict(X_test)"
   ]
  },
  {
   "cell_type": "code",
   "execution_count": null,
   "id": "98065832",
   "metadata": {},
   "outputs": [],
   "source": []
  },
  {
   "cell_type": "code",
   "execution_count": null,
   "id": "d68e1e2e",
   "metadata": {},
   "outputs": [],
   "source": [
    "print(confusion_matrix(y_test,y_pred))"
   ]
  },
  {
   "cell_type": "code",
   "execution_count": null,
   "id": "69113fe1",
   "metadata": {},
   "outputs": [],
   "source": [
    "print(classification_report(y_test,y_pred))"
   ]
  },
  {
   "cell_type": "markdown",
   "id": "2c1b55b0",
   "metadata": {},
   "source": [
    "## 2 Featured model works well."
   ]
  },
  {
   "cell_type": "code",
   "execution_count": null,
   "id": "6292598a",
   "metadata": {
    "scrolled": false
   },
   "outputs": [],
   "source": [
    "\n",
    "plot_decision_regions(np.array(X_test), np.array(y_test['Species']), clf=svm, legend=2)"
   ]
  },
  {
   "cell_type": "markdown",
   "id": "c93286f8",
   "metadata": {},
   "source": [
    "## 4 Feature SVM"
   ]
  },
  {
   "cell_type": "code",
   "execution_count": null,
   "id": "3ae77eeb",
   "metadata": {},
   "outputs": [],
   "source": [
    "X = df[['SepalLengthCm','PetalLengthCm','PetalWidthCm']]\n",
    "y = df[['Species']]"
   ]
  },
  {
   "cell_type": "code",
   "execution_count": null,
   "id": "ea9c05f2",
   "metadata": {},
   "outputs": [],
   "source": [
    "y['Species'].unique()"
   ]
  },
  {
   "cell_type": "code",
   "execution_count": null,
   "id": "5c57b509",
   "metadata": {},
   "outputs": [],
   "source": [
    "y['Species'] = Labeler.fit_transform(df['Species'])"
   ]
  },
  {
   "cell_type": "code",
   "execution_count": null,
   "id": "f4d3c26b",
   "metadata": {},
   "outputs": [],
   "source": [
    "y['Species'].unique()"
   ]
  },
  {
   "cell_type": "code",
   "execution_count": null,
   "id": "43c77376",
   "metadata": {
    "scrolled": false
   },
   "outputs": [],
   "source": [
    "\n",
    "for i in range(0,200):\n",
    "    X_train, X_test, y_train, y_test = train_test_split(X, y, test_size=.3, random_state=i)\n",
    "    pca = PCA(n_components = 2)\n",
    "    X_train2 = pca.fit_transform(X_train)\n",
    "    X_test2 = pca.fit_transform(X_test)\n",
    "    svm = SVC(kernel='rbf',degree=2,gamma=0.3)\n",
    "    svm.fit(X_train2, y_train)\n",
    "    #svm.fit(X_train, y_train)\n",
    "    if svm.score(X_train2, y_train) > 0.999:\n",
    "        print(i)\n",
    "        print('The accuracy of the svm classifier on training data is {:.2f} out of 1'.format(svm.score(X_train2, y_train)))\n",
    "        print('The accuracy of the svm classifier on test data is {:.2f} out of 1'.format(svm.score(X_test2, y_test)))\n",
    "        plot_decision_regions(np.array(X_test2), np.array(y_test['Species']), clf=svm, legend=2)\n",
    "        plt.show()\n",
    "        print(classification_report(y_test,y_pred))"
   ]
  },
  {
   "cell_type": "code",
   "execution_count": null,
   "id": "19b0f3ad",
   "metadata": {},
   "outputs": [],
   "source": [
    "X_train, X_test, y_train, y_test = train_test_split(X, y, test_size=.5, random_state=147)\n",
    "pca = PCA(n_components = 2)\n",
    "X_train2 = pca.fit_transform(X_train)\n",
    "X_test2 = pca.fit_transform(X_test)\n",
    "svm = SVC(kernel='rbf',gamma=0.3)\n",
    "svm.fit(X_train2, y_train)\n",
    "print('The accuracy of the svm classifier on training data is {:.2f} out of 1'.format(svm.score(X_train2, y_train)))\n",
    "print('The accuracy of the svm classifier on test data is {:.2f} out of 1'.format(svm.score(X_test2, y_test)))\n",
    "plot_decision_regions(np.array(X_test2), np.array(y_test['Species']), clf=svm, legend=2)\n",
    "plt.show()\n",
    "print(classification_report(y_test,y_pred))"
   ]
  },
  {
   "cell_type": "markdown",
   "id": "01f2e28c",
   "metadata": {},
   "source": [
    "## Seems like 4 Featured SVM doesnt work that much while not having cost"
   ]
  },
  {
   "cell_type": "code",
   "execution_count": null,
   "id": "ac864c88",
   "metadata": {},
   "outputs": [],
   "source": [
    "\n",
    "pca = PCA(n_components = 2)\n",
    "X_train2 = pca.fit_transform(X_train)\n",
    "X_test2 = pca.fit_transform(X_test)\n",
    "svm.fit(X_train2, y_train)\n",
    "plot_decision_regions(np.array(X_test2), np.array(y_test['Species']), clf=svm, legend=2)\n",
    "print(classification_report(y_test,y_pred))"
   ]
  },
  {
   "cell_type": "code",
   "execution_count": null,
   "id": "3f22d07d",
   "metadata": {},
   "outputs": [],
   "source": []
  },
  {
   "cell_type": "code",
   "execution_count": null,
   "id": "cc033b04",
   "metadata": {},
   "outputs": [],
   "source": []
  },
  {
   "cell_type": "code",
   "execution_count": null,
   "id": "c9c48932",
   "metadata": {},
   "outputs": [],
   "source": []
  }
 ],
 "metadata": {
  "kernelspec": {
   "display_name": "Python 3 (ipykernel)",
   "language": "python",
   "name": "python3"
  },
  "language_info": {
   "codemirror_mode": {
    "name": "ipython",
    "version": 3
   },
   "file_extension": ".py",
   "mimetype": "text/x-python",
   "name": "python",
   "nbconvert_exporter": "python",
   "pygments_lexer": "ipython3",
   "version": "3.9.11"
  }
 },
 "nbformat": 4,
 "nbformat_minor": 5
}
